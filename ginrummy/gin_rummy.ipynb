{
 "cells": [
  {
   "cell_type": "code",
   "execution_count": 1,
   "metadata": {
    "tags": []
   },
   "outputs": [
    {
     "output_type": "stream",
     "name": "stderr",
     "text": "Using TensorFlow backend.\n"
    }
   ],
   "source": [
    "# Import statement\n",
    "\n",
    "import pickle\n",
    "\n",
    "from typing import List, Dict\n",
    "\n",
    "from keras.models import Model, Input\n",
    "from keras.layers import LSTM, Dense, Concatenate\n",
    "from keras.losses import categorical_crossentropy\n",
    "from keras.activations import sigmoid, softmax, relu, tanh\n",
    "from keras.metrics import Accuracy\n",
    "from keras.optimizers import Adam\n"
   ]
  },
  {
   "cell_type": "code",
   "execution_count": 2,
   "metadata": {},
   "outputs": [
    {
     "output_type": "error",
     "ename": "UnpicklingError",
     "evalue": "invalid load key, '\\xac'.",
     "traceback": [
      "\u001b[1;31m---------------------------------------------------------------------------\u001b[0m",
      "\u001b[1;31mUnpicklingError\u001b[0m                           Traceback (most recent call last)",
      "\u001b[1;32m<ipython-input-2-321d5090e036>\u001b[0m in \u001b[0;36m<module>\u001b[1;34m\u001b[0m\n\u001b[0;32m      1\u001b[0m \u001b[1;32mwith\u001b[0m \u001b[0mopen\u001b[0m\u001b[1;33m(\u001b[0m\u001b[1;34m'./GinRummyEAAIorigin/GinRummyEAAI/play_data_SimplePlayer_10.dat'\u001b[0m\u001b[1;33m,\u001b[0m \u001b[1;34m'rb'\u001b[0m\u001b[1;33m)\u001b[0m \u001b[1;32mas\u001b[0m \u001b[0mf\u001b[0m\u001b[1;33m:\u001b[0m\u001b[1;33m\u001b[0m\u001b[1;33m\u001b[0m\u001b[0m\n\u001b[1;32m----> 2\u001b[1;33m     \u001b[0mobj\u001b[0m \u001b[1;33m=\u001b[0m \u001b[0mpickle\u001b[0m\u001b[1;33m.\u001b[0m\u001b[0mload\u001b[0m\u001b[1;33m(\u001b[0m\u001b[0mf\u001b[0m\u001b[1;33m)\u001b[0m\u001b[1;33m\u001b[0m\u001b[1;33m\u001b[0m\u001b[0m\n\u001b[0m",
      "\u001b[1;31mUnpicklingError\u001b[0m: invalid load key, '\\xac'."
     ]
    }
   ],
   "source": [
    "with open('./GinRummyEAAIorigin/GinRummyEAAI/play_data_SimplePlayer_10.dat', 'rb') as f:\n",
    "    obj = pickle.load(f)"
   ]
  },
  {
   "cell_type": "code",
   "execution_count": null,
   "metadata": {},
   "outputs": [],
   "source": [
    "class ModelConfig:\n",
    "    def __init__(self):\n",
    "        pass"
   ]
  },
  {
   "cell_type": "code",
   "execution_count": 7,
   "metadata": {},
   "outputs": [],
   "source": [
    "class HandEstimation:\n",
    "    \"\"\" \n",
    "    This is the Hand estimaiton Data Preprocessing class.\n",
    "    \"\"\"\n",
    "    def __init__(self, lr: int, n_epochs: int):\n",
    "        \"\"\"\n",
    "        Initializing the data model.\n",
    "\n",
    "        Args:\n",
    "            lr (float): learning rate.\n",
    "            n_epochs (int): number of epochs.\n",
    "        \"\"\"\n",
    "        self.lr = lr\n",
    "        self.n_epochs = n_epochs\n",
    "\n",
    "    def __import_data__(self, filename: str):\n",
    "        # Read json or dat\n",
    "        \n",
    "        # Set var\n",
    "        self.games_data : List[List[List[List[List[List[float]]]]]] = gameData\n",
    "\n",
    "        \n",
    "    def __pre_process_data__(self):\n",
    "        pass\n",
    "\n",
    "    def model (self, config):\n",
    "        input_op_pick = Input(shape=(52,), name=\"op_pick\")\n",
    "        op_pick_lstm = LSTM(64, return_sequences=True, return_state=True) (input_op_pick)\n",
    "\n",
    "        input_op_unpick = Input(shape=(52,), name=\"op_unpick\")\n",
    "        op_unpick_lstm = LSTM(64, return_sequences=True, return_state=True) (input_op_unpick)\n",
    "\n",
    "        input_op_discard = Input(shape=(52,), name=\"op_discard\")\n",
    "        op_discard_lstm = LSTM(64, return_sequences=True, return_state=True) (input_op_discard)\n",
    "\n",
    "        input_uncards = Input(shape=(52,), name=\"uncards\")\n",
    "        uncards_lstm = LSTM(64, return_sequences=True, return_state=True) (input_uncards)\n",
    "\n",
    "        features = Concatenate([op_pick_lstm, op_unpick_lstm, op_discard_lstm, uncards_lstm])\n",
    "\n",
    "        features = Dense(512, activation=relu) (features)\n",
    "\n",
    "        features = Dense(128, activation=relu) (features)\n",
    "\n",
    "        output = Dense(52, activation=sigmoid) (features)\n",
    "\n",
    "        model = Model(inputs=[input_op_pick, input_op_unpick, input_op_discard, input_uncards], outputs=output)\n",
    "\n",
    "        model.compile(optimizer=Adam, loss=categorical_crossentropy, metrics=['accuracy']])\n",
    "        model.summary()\n",
    "\n",
    "        return model\n",
    "\n"
   ]
  },
  {
   "cell_type": "code",
   "execution_count": null,
   "metadata": {},
   "outputs": [],
   "source": [
    "\n"
   ]
  }
 ],
 "metadata": {
  "language_info": {
   "codemirror_mode": {
    "name": "ipython",
    "version": 3
   },
   "file_extension": ".py",
   "mimetype": "text/x-python",
   "name": "python",
   "nbconvert_exporter": "python",
   "pygments_lexer": "ipython3",
   "version": "3.7.6-final"
  },
  "orig_nbformat": 2,
  "kernelspec": {
   "name": "python3",
   "display_name": "Python 3"
  }
 },
 "nbformat": 4,
 "nbformat_minor": 2
}